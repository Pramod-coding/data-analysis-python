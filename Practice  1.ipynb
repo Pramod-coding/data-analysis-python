{
 "cells": [
  {
   "cell_type": "markdown",
   "id": "53567318",
   "metadata": {},
   "source": [
    "# # IDENTIFIER//VARIABLE//OBJECT\n",
    "\n",
    "#Identifier Name=Valu//Variable Name=Vale//Object Name=Value\n",
    "\n",
    "# Limitations for Identifier\n",
    "#1.identefier is Case senstive\n",
    "\n",
    "abc=75\n",
    "ABC"
   ]
  },
  {
   "cell_type": "code",
   "execution_count": 1,
   "id": "669d1988",
   "metadata": {},
   "outputs": [
    {
     "ename": "NameError",
     "evalue": "name 'ABC' is not defined",
     "output_type": "error",
     "traceback": [
      "\u001b[1;31m---------------------------------------------------------------------------\u001b[0m",
      "\u001b[1;31mNameError\u001b[0m                                 Traceback (most recent call last)",
      "Cell \u001b[1;32mIn[1], line 2\u001b[0m\n\u001b[0;32m      1\u001b[0m abc\u001b[38;5;241m=\u001b[39m\u001b[38;5;241m75\u001b[39m\n\u001b[1;32m----> 2\u001b[0m \u001b[43mABC\u001b[49m\n",
      "\u001b[1;31mNameError\u001b[0m: name 'ABC' is not defined"
     ]
    }
   ],
   "source": [
    "abc=75\n",
    "ABC"
   ]
  },
  {
   "cell_type": "markdown",
   "id": "7a2b3ac1",
   "metadata": {},
   "source": [
    "#2.identefier Should not star with Digit\n"
   ]
  },
  {
   "cell_type": "code",
   "execution_count": 2,
   "id": "bdde56ba",
   "metadata": {},
   "outputs": [
    {
     "ename": "SyntaxError",
     "evalue": "invalid decimal literal (1429594259.py, line 1)",
     "output_type": "error",
     "traceback": [
      "\u001b[1;36m  Cell \u001b[1;32mIn[2], line 1\u001b[1;36m\u001b[0m\n\u001b[1;33m    1abc=76\u001b[0m\n\u001b[1;37m    ^\u001b[0m\n\u001b[1;31mSyntaxError\u001b[0m\u001b[1;31m:\u001b[0m invalid decimal literal\n"
     ]
    }
   ],
   "source": [
    "1abc=76\n",
    "1abc"
   ]
  },
  {
   "cell_type": "markdown",
   "id": "4fd746bf",
   "metadata": {},
   "source": [
    "#2.1 but it can include digits"
   ]
  },
  {
   "cell_type": "code",
   "execution_count": 4,
   "id": "cd9bf2df",
   "metadata": {},
   "outputs": [
    {
     "data": {
      "text/plain": [
       "66"
      ]
     },
     "execution_count": 4,
     "metadata": {},
     "output_type": "execute_result"
    }
   ],
   "source": [
    "abc1=66\n",
    "abc1"
   ]
  },
  {
   "cell_type": "markdown",
   "id": "828673a8",
   "metadata": {},
   "source": [
    "#3.Identifier Shouldn't contain any   special charecter"
   ]
  },
  {
   "cell_type": "code",
   "execution_count": 5,
   "id": "ac66be79",
   "metadata": {},
   "outputs": [
    {
     "ename": "SyntaxError",
     "evalue": "invalid syntax (2543868378.py, line 1)",
     "output_type": "error",
     "traceback": [
      "\u001b[1;36m  Cell \u001b[1;32mIn[5], line 1\u001b[1;36m\u001b[0m\n\u001b[1;33m    ram$=00\u001b[0m\n\u001b[1;37m       ^\u001b[0m\n\u001b[1;31mSyntaxError\u001b[0m\u001b[1;31m:\u001b[0m invalid syntax\n"
     ]
    }
   ],
   "source": [
    "ram$=00\n",
    "ram$"
   ]
  },
  {
   "cell_type": "markdown",
   "id": "589c5822",
   "metadata": {},
   "source": [
    "#4.it can include\"_\""
   ]
  },
  {
   "cell_type": "code",
   "execution_count": 7,
   "id": "d23ea75e",
   "metadata": {},
   "outputs": [
    {
     "data": {
      "text/plain": [
       "111"
      ]
     },
     "execution_count": 7,
     "metadata": {},
     "output_type": "execute_result"
    }
   ],
   "source": [
    "raju_=111\n",
    "raju_"
   ]
  },
  {
   "cell_type": "markdown",
   "id": "3cf867ed",
   "metadata": {},
   "source": [
    "#5.it should not include any Reserved word  r keywards"
   ]
  },
  {
   "cell_type": "code",
   "execution_count": 8,
   "id": "1e51054b",
   "metadata": {},
   "outputs": [
    {
     "ename": "SyntaxError",
     "evalue": "invalid syntax (3510065051.py, line 1)",
     "output_type": "error",
     "traceback": [
      "\u001b[1;36m  Cell \u001b[1;32mIn[8], line 1\u001b[1;36m\u001b[0m\n\u001b[1;33m    if=86\u001b[0m\n\u001b[1;37m      ^\u001b[0m\n\u001b[1;31mSyntaxError\u001b[0m\u001b[1;31m:\u001b[0m invalid syntax\n"
     ]
    }
   ],
   "source": [
    "if=86\n",
    "if"
   ]
  },
  {
   "cell_type": "markdown",
   "id": "8f070b89",
   "metadata": {},
   "source": [
    "#how to Print Key words in latest version we were having 36 Keywards"
   ]
  },
  {
   "cell_type": "code",
   "execution_count": 21,
   "id": "75a9e444",
   "metadata": {},
   "outputs": [
    {
     "data": {
      "text/plain": [
       "35"
      ]
     },
     "execution_count": 21,
     "metadata": {},
     "output_type": "execute_result"
    }
   ],
   "source": [
    "import keyword\n",
    "keyword.kwlist\n",
    "len(keyword.kwlist)\n"
   ]
  },
  {
   "cell_type": "markdown",
   "id": "7dcccb6b",
   "metadata": {},
   "source": [
    "#there no lenght limit for identifier"
   ]
  },
  {
   "cell_type": "code",
   "execution_count": 13,
   "id": "daec2d8d",
   "metadata": {},
   "outputs": [
    {
     "data": {
      "text/plain": [
       "1111"
      ]
     },
     "execution_count": 13,
     "metadata": {},
     "output_type": "execute_result"
    }
   ],
   "source": [
    "rajuwenthomeandcamebacktowaork=1111\n",
    "rajuwenthomeandcamebacktowaork"
   ]
  },
  {
   "cell_type": "markdown",
   "id": "e6701c1d",
   "metadata": {},
   "source": [
    "# Fundamental Data Types In Python"
   ]
  },
  {
   "cell_type": "markdown",
   "id": "22f4f824",
   "metadata": {},
   "source": [
    "# 1.INT (1)\n",
    "# 2.Float(1.0)\n",
    "# 3.Boolean / Bool (True/False)\n",
    "# 4.Complex(a+bj)\n",
    "# 5.String('abc')"
   ]
  },
  {
   "cell_type": "markdown",
   "id": "3ab786f2",
   "metadata": {},
   "source": [
    "# 1.INT"
   ]
  },
  {
   "cell_type": "markdown",
   "id": "24938171",
   "metadata": {},
   "source": [
    "#it has no decimal\n",
    "#INT has two Types"
   ]
  },
  {
   "cell_type": "markdown",
   "id": "c80419a2",
   "metadata": {},
   "source": [
    "# 1.Binary integral  format (base 2 ,0-1)\n",
    "# 2.Octal integral Format(base8,0-7)"
   ]
  },
  {
   "cell_type": "markdown",
   "id": "a014d58a",
   "metadata": {},
   "source": [
    "# 1. Binary "
   ]
  },
  {
   "cell_type": "code",
   "execution_count": 26,
   "id": "a32d8a70",
   "metadata": {},
   "outputs": [
    {
     "data": {
      "text/plain": [
       "15"
      ]
     },
     "execution_count": 26,
     "metadata": {},
     "output_type": "execute_result"
    }
   ],
   "source": [
    "bi=0b1111\n",
    "bi"
   ]
  },
  {
   "cell_type": "markdown",
   "id": "3f484811",
   "metadata": {},
   "source": [
    "# 2. Octal"
   ]
  },
  {
   "cell_type": "code",
   "execution_count": 27,
   "id": "9524f44c",
   "metadata": {},
   "outputs": [
    {
     "data": {
      "text/plain": [
       "23"
      ]
     },
     "execution_count": 27,
     "metadata": {},
     "output_type": "execute_result"
    }
   ],
   "source": [
    "oc=0o27\n",
    "oc"
   ]
  },
  {
   "cell_type": "markdown",
   "id": "1195f672",
   "metadata": {},
   "source": [
    "# 2. FLOAT "
   ]
  },
  {
   "cell_type": "code",
   "execution_count": 28,
   "id": "c7f6721c",
   "metadata": {},
   "outputs": [],
   "source": [
    "# it contains decimals(1.0)\n",
    "#Binary & Octal were not allowed in Float \n",
    "#only \"E\" Expenstional is allowed \n",
    "# e"
   ]
  },
  {
   "cell_type": "code",
   "execution_count": 29,
   "id": "7d538fbd",
   "metadata": {},
   "outputs": [
    {
     "data": {
      "text/plain": [
       "1.0"
      ]
     },
     "execution_count": 29,
     "metadata": {},
     "output_type": "execute_result"
    }
   ],
   "source": [
    "ex=1e0\n",
    "ex"
   ]
  },
  {
   "cell_type": "code",
   "execution_count": 30,
   "id": "b9da1076",
   "metadata": {},
   "outputs": [
    {
     "data": {
      "text/plain": [
       "11.0"
      ]
     },
     "execution_count": 30,
     "metadata": {},
     "output_type": "execute_result"
    }
   ],
   "source": [
    "ex1=11e0\n",
    "ex1"
   ]
  },
  {
   "cell_type": "code",
   "execution_count": 31,
   "id": "97e097ec",
   "metadata": {},
   "outputs": [
    {
     "data": {
      "text/plain": [
       "111.0"
      ]
     },
     "execution_count": 31,
     "metadata": {},
     "output_type": "execute_result"
    }
   ],
   "source": [
    "ex2=111e0\n",
    "ex2"
   ]
  },
  {
   "cell_type": "markdown",
   "id": "de18af3b",
   "metadata": {},
   "source": [
    "# 3.BOOL(True/False)"
   ]
  },
  {
   "cell_type": "code",
   "execution_count": 32,
   "id": "19794568",
   "metadata": {},
   "outputs": [
    {
     "data": {
      "text/plain": [
       "True"
      ]
     },
     "execution_count": 32,
     "metadata": {},
     "output_type": "execute_result"
    }
   ],
   "source": [
    "bo1=True\n",
    "bo1"
   ]
  },
  {
   "cell_type": "code",
   "execution_count": 33,
   "id": "1f1921a4",
   "metadata": {},
   "outputs": [
    {
     "data": {
      "text/plain": [
       "False"
      ]
     },
     "execution_count": 33,
     "metadata": {},
     "output_type": "execute_result"
    }
   ],
   "source": [
    "bo2=False\n",
    "bo2"
   ]
  },
  {
   "cell_type": "code",
   "execution_count": 35,
   "id": "6bd699f6",
   "metadata": {},
   "outputs": [
    {
     "data": {
      "text/plain": [
       "1"
      ]
     },
     "execution_count": 35,
     "metadata": {},
     "output_type": "execute_result"
    }
   ],
   "source": [
    "int(bo1)"
   ]
  },
  {
   "cell_type": "code",
   "execution_count": 36,
   "id": "f15120f8",
   "metadata": {},
   "outputs": [
    {
     "data": {
      "text/plain": [
       "0"
      ]
     },
     "execution_count": 36,
     "metadata": {},
     "output_type": "execute_result"
    }
   ],
   "source": [
    "int(bo2)"
   ]
  },
  {
   "cell_type": "code",
   "execution_count": 37,
   "id": "cdde11a4",
   "metadata": {},
   "outputs": [
    {
     "ename": "ZeroDivisionError",
     "evalue": "division by zero",
     "output_type": "error",
     "traceback": [
      "\u001b[1;31m---------------------------------------------------------------------------\u001b[0m",
      "\u001b[1;31mZeroDivisionError\u001b[0m                         Traceback (most recent call last)",
      "Cell \u001b[1;32mIn[37], line 1\u001b[0m\n\u001b[1;32m----> 1\u001b[0m bo3\u001b[38;5;241m=\u001b[39m\u001b[38;5;28;43;01mTrue\u001b[39;49;00m\u001b[38;5;241;43m/\u001b[39;49m\u001b[38;5;28;43;01mFalse\u001b[39;49;00m\n\u001b[0;32m      2\u001b[0m bo3\n",
      "\u001b[1;31mZeroDivisionError\u001b[0m: division by zero"
     ]
    }
   ],
   "source": [
    "bo3=True/False\n",
    "bo3"
   ]
  },
  {
   "cell_type": "markdown",
   "id": "56a004da",
   "metadata": {},
   "source": [
    "# 4.Complex(a+bj)"
   ]
  },
  {
   "cell_type": "code",
   "execution_count": 41,
   "id": "407fe703",
   "metadata": {},
   "outputs": [],
   "source": [
    "# a=real part(can be float,int(bi r Oc))\n",
    "# b=Imaginary Part\n",
    "# j=Squre root of -1"
   ]
  },
  {
   "cell_type": "code",
   "execution_count": 42,
   "id": "b26127b4",
   "metadata": {},
   "outputs": [
    {
     "data": {
      "text/plain": [
       "(10+5j)"
      ]
     },
     "execution_count": 42,
     "metadata": {},
     "output_type": "execute_result"
    }
   ],
   "source": [
    "c1=10+5j\n",
    "c1"
   ]
  },
  {
   "cell_type": "code",
   "execution_count": 47,
   "id": "02b7b2d2",
   "metadata": {},
   "outputs": [
    {
     "data": {
      "text/plain": [
       "(3+6j)"
      ]
     },
     "execution_count": 47,
     "metadata": {},
     "output_type": "execute_result"
    }
   ],
   "source": [
    "#complex with int binary\n",
    "cb=0b11+6j\n",
    "cb"
   ]
  },
  {
   "cell_type": "code",
   "execution_count": 48,
   "id": "f26068c0",
   "metadata": {},
   "outputs": [
    {
     "data": {
      "text/plain": [
       "(22+10j)"
      ]
     },
     "execution_count": 48,
     "metadata": {},
     "output_type": "execute_result"
    }
   ],
   "source": [
    "#complex with Int Octal\n",
    "co=0o26+10j\n",
    "co"
   ]
  },
  {
   "cell_type": "code",
   "execution_count": 49,
   "id": "6ffc042b",
   "metadata": {},
   "outputs": [
    {
     "data": {
      "text/plain": [
       "(22.5+6.5j)"
      ]
     },
     "execution_count": 49,
     "metadata": {},
     "output_type": "execute_result"
    }
   ],
   "source": [
    "#complex with float\n",
    "cf=22.5+6.5j\n",
    "cf"
   ]
  },
  {
   "cell_type": "code",
   "execution_count": 50,
   "id": "3419add6",
   "metadata": {},
   "outputs": [
    {
     "data": {
      "text/plain": [
       "0j"
      ]
     },
     "execution_count": 50,
     "metadata": {},
     "output_type": "execute_result"
    }
   ],
   "source": [
    "cf1=0.0+0.0j\n",
    "cf1"
   ]
  },
  {
   "cell_type": "markdown",
   "id": "8afc7ffe",
   "metadata": {},
   "source": [
    "# 5.String ('abc')"
   ]
  },
  {
   "cell_type": "code",
   "execution_count": 51,
   "id": "bb75b5a6",
   "metadata": {},
   "outputs": [
    {
     "data": {
      "text/plain": [
       "'python'"
      ]
     },
     "execution_count": 51,
     "metadata": {},
     "output_type": "execute_result"
    }
   ],
   "source": [
    "# string consist of text\n",
    "st='python'\n",
    "st"
   ]
  },
  {
   "cell_type": "code",
   "execution_count": 58,
   "id": "93c18079",
   "metadata": {},
   "outputs": [
    {
     "data": {
      "text/plain": [
       "'raju went home an     came back to office     to finish his work raju went home an     came back to office     to finish his workraju went home an     came back to office     to finish his work raju went home an     came back to office     to finish his work raju went home an     came back to office     to finish his work raju went home an     came back to office     to finish his work raju went home an     came back to office     to finish his workraju went home an     came back to office     to finish his work raju went home and     came back to office     to finish his work vraju went home an     came back to office     to finish his work'"
      ]
     },
     "execution_count": 58,
     "metadata": {},
     "output_type": "execute_result"
    }
   ],
   "source": [
    "#usage of single & double coats\n",
    "st1= 'raju went home an     came back to office     to finish his work raju went home an     came back to office     to finish his workraju went home an     came back to office     to finish his work raju went home an     came back to office     to finish his work raju went home an     came back to office     to finish his work raju went home an     came back to office     to finish his work raju went home an     came back to office     to finish his workraju went home an     came back to office     to finish his work raju went home and     came back to office     to finish his work vraju went home an     came back to office     to finish his work' \n",
    "\n",
    "st1 \n"
   ]
  },
  {
   "cell_type": "markdown",
   "id": "d5606c08",
   "metadata": {},
   "source": [
    "# TYPE CASTING //DATA TYPE CONVERSION"
   ]
  },
  {
   "cell_type": "markdown",
   "id": "cf6f9699",
   "metadata": {},
   "source": [
    "# Argument = Parameter\n",
    "# 1.Other Data Type casting to INT is possible(except Complex).\n",
    "# 2.Other Data Type casting to FLOAT is possible(except Complex).\n",
    "# 3.Other Data Type casting to COMPLEX is possible.\n",
    "# 4.Other Data Type casting to BOOL is possible.\n",
    "# 5.Other Data Type casting to STRING is possible(if not in Text)."
   ]
  },
  {
   "cell_type": "markdown",
   "id": "1ba61ddf",
   "metadata": {},
   "source": [
    "# INT\n"
   ]
  },
  {
   "cell_type": "code",
   "execution_count": 10,
   "id": "9feea795",
   "metadata": {},
   "outputs": [
    {
     "data": {
      "text/plain": [
       "10"
      ]
     },
     "execution_count": 10,
     "metadata": {},
     "output_type": "execute_result"
    }
   ],
   "source": [
    "int(10.0) # float to int"
   ]
  },
  {
   "cell_type": "code",
   "execution_count": 11,
   "id": "01372b30",
   "metadata": {},
   "outputs": [
    {
     "ename": "TypeError",
     "evalue": "int() argument must be a string, a bytes-like object or a real number, not 'complex'",
     "output_type": "error",
     "traceback": [
      "\u001b[1;31m---------------------------------------------------------------------------\u001b[0m",
      "\u001b[1;31mTypeError\u001b[0m                                 Traceback (most recent call last)",
      "Cell \u001b[1;32mIn[11], line 1\u001b[0m\n\u001b[1;32m----> 1\u001b[0m \u001b[38;5;28;43mint\u001b[39;49m\u001b[43m(\u001b[49m\u001b[38;5;241;43m10\u001b[39;49m\u001b[38;5;241;43m+\u001b[39;49m\u001b[38;5;241;43m2\u001b[39;49m\u001b[43mj\u001b[49m\u001b[43m)\u001b[49m\n",
      "\u001b[1;31mTypeError\u001b[0m: int() argument must be a string, a bytes-like object or a real number, not 'complex'"
     ]
    }
   ],
   "source": [
    "int(10+2j)# complex to int is not posiible"
   ]
  },
  {
   "cell_type": "code",
   "execution_count": 12,
   "id": "0481eb5f",
   "metadata": {},
   "outputs": [
    {
     "data": {
      "text/plain": [
       "1"
      ]
     },
     "execution_count": 12,
     "metadata": {},
     "output_type": "execute_result"
    }
   ],
   "source": [
    "int(True) #boolto int"
   ]
  },
  {
   "cell_type": "code",
   "execution_count": 13,
   "id": "23b30bcb",
   "metadata": {},
   "outputs": [
    {
     "data": {
      "text/plain": [
       "0"
      ]
     },
     "execution_count": 13,
     "metadata": {},
     "output_type": "execute_result"
    }
   ],
   "source": [
    "int(False)# bool to int"
   ]
  },
  {
   "cell_type": "code",
   "execution_count": 17,
   "id": "e3b08533",
   "metadata": {},
   "outputs": [
    {
     "data": {
      "text/plain": [
       "10"
      ]
     },
     "execution_count": 17,
     "metadata": {},
     "output_type": "execute_result"
    }
   ],
   "source": [
    "int('10') #string to int"
   ]
  },
  {
   "cell_type": "code",
   "execution_count": 18,
   "id": "3b496f56",
   "metadata": {},
   "outputs": [
    {
     "ename": "ValueError",
     "evalue": "invalid literal for int() with base 10: 'raj'",
     "output_type": "error",
     "traceback": [
      "\u001b[1;31m---------------------------------------------------------------------------\u001b[0m",
      "\u001b[1;31mValueError\u001b[0m                                Traceback (most recent call last)",
      "Cell \u001b[1;32mIn[18], line 1\u001b[0m\n\u001b[1;32m----> 1\u001b[0m \u001b[38;5;28;43mint\u001b[39;49m\u001b[43m(\u001b[49m\u001b[38;5;124;43m'\u001b[39;49m\u001b[38;5;124;43mraj\u001b[39;49m\u001b[38;5;124;43m'\u001b[39;49m\u001b[43m)\u001b[49m\n",
      "\u001b[1;31mValueError\u001b[0m: invalid literal for int() with base 10: 'raj'"
     ]
    }
   ],
   "source": [
    "int('raj')# string if written in text cannont be converted"
   ]
  },
  {
   "cell_type": "markdown",
   "id": "ed63cf87",
   "metadata": {},
   "source": [
    "#  Flaot"
   ]
  },
  {
   "cell_type": "code",
   "execution_count": 19,
   "id": "c5a53909",
   "metadata": {},
   "outputs": [
    {
     "data": {
      "text/plain": [
       "10.0"
      ]
     },
     "execution_count": 19,
     "metadata": {},
     "output_type": "execute_result"
    }
   ],
   "source": [
    "float(10) # int to float"
   ]
  },
  {
   "cell_type": "code",
   "execution_count": 20,
   "id": "bde43e75",
   "metadata": {},
   "outputs": [
    {
     "ename": "TypeError",
     "evalue": "float() argument must be a string or a real number, not 'complex'",
     "output_type": "error",
     "traceback": [
      "\u001b[1;31m---------------------------------------------------------------------------\u001b[0m",
      "\u001b[1;31mTypeError\u001b[0m                                 Traceback (most recent call last)",
      "Cell \u001b[1;32mIn[20], line 1\u001b[0m\n\u001b[1;32m----> 1\u001b[0m \u001b[38;5;28;43mfloat\u001b[39;49m\u001b[43m(\u001b[49m\u001b[38;5;241;43m19\u001b[39;49m\u001b[38;5;241;43m+\u001b[39;49m\u001b[38;5;241;43m6\u001b[39;49m\u001b[43mj\u001b[49m\u001b[43m)\u001b[49m\n",
      "\u001b[1;31mTypeError\u001b[0m: float() argument must be a string or a real number, not 'complex'"
     ]
    }
   ],
   "source": [
    "float(19+6j) # complex to flot is not possibel"
   ]
  },
  {
   "cell_type": "code",
   "execution_count": 21,
   "id": "279fcc05",
   "metadata": {},
   "outputs": [
    {
     "data": {
      "text/plain": [
       "1.0"
      ]
     },
     "execution_count": 21,
     "metadata": {},
     "output_type": "execute_result"
    }
   ],
   "source": [
    "float (True) #bool to Float"
   ]
  },
  {
   "cell_type": "code",
   "execution_count": 22,
   "id": "4974a40d",
   "metadata": {},
   "outputs": [
    {
     "data": {
      "text/plain": [
       "0.0"
      ]
     },
     "execution_count": 22,
     "metadata": {},
     "output_type": "execute_result"
    }
   ],
   "source": [
    "float(False)# bool to Float"
   ]
  },
  {
   "cell_type": "code",
   "execution_count": 25,
   "id": "5545f113",
   "metadata": {},
   "outputs": [
    {
     "data": {
      "text/plain": [
       "10.0"
      ]
     },
     "execution_count": 25,
     "metadata": {},
     "output_type": "execute_result"
    }
   ],
   "source": [
    "float ('10')# string to Float"
   ]
  },
  {
   "cell_type": "code",
   "execution_count": 26,
   "id": "14257009",
   "metadata": {},
   "outputs": [
    {
     "ename": "ValueError",
     "evalue": "could not convert string to float: 'raj'",
     "output_type": "error",
     "traceback": [
      "\u001b[1;31m---------------------------------------------------------------------------\u001b[0m",
      "\u001b[1;31mValueError\u001b[0m                                Traceback (most recent call last)",
      "Cell \u001b[1;32mIn[26], line 1\u001b[0m\n\u001b[1;32m----> 1\u001b[0m \u001b[38;5;28;43mfloat\u001b[39;49m\u001b[43m(\u001b[49m\u001b[38;5;124;43m'\u001b[39;49m\u001b[38;5;124;43mraj\u001b[39;49m\u001b[38;5;124;43m'\u001b[39;49m\u001b[43m)\u001b[49m\n",
      "\u001b[1;31mValueError\u001b[0m: could not convert string to float: 'raj'"
     ]
    }
   ],
   "source": [
    "float('raj')# string in tex cannton be converted to float"
   ]
  },
  {
   "cell_type": "markdown",
   "id": "6c683128",
   "metadata": {},
   "source": [
    "# Complex"
   ]
  },
  {
   "cell_type": "code",
   "execution_count": 27,
   "id": "c5caabdd",
   "metadata": {},
   "outputs": [
    {
     "data": {
      "text/plain": [
       "(10+0j)"
      ]
     },
     "execution_count": 27,
     "metadata": {},
     "output_type": "execute_result"
    }
   ],
   "source": [
    "complex(10) #int to complex"
   ]
  },
  {
   "cell_type": "code",
   "execution_count": 28,
   "id": "74f8e28f",
   "metadata": {},
   "outputs": [
    {
     "data": {
      "text/plain": [
       "(20.05+0j)"
      ]
     },
     "execution_count": 28,
     "metadata": {},
     "output_type": "execute_result"
    }
   ],
   "source": [
    "complex(20.05) # float to complex"
   ]
  },
  {
   "cell_type": "code",
   "execution_count": 29,
   "id": "22b4aa69",
   "metadata": {},
   "outputs": [
    {
     "data": {
      "text/plain": [
       "(1+0j)"
      ]
     },
     "execution_count": 29,
     "metadata": {},
     "output_type": "execute_result"
    }
   ],
   "source": [
    "complex(True) # bool to complex"
   ]
  },
  {
   "cell_type": "code",
   "execution_count": 30,
   "id": "b56b32be",
   "metadata": {},
   "outputs": [
    {
     "data": {
      "text/plain": [
       "0j"
      ]
     },
     "execution_count": 30,
     "metadata": {},
     "output_type": "execute_result"
    }
   ],
   "source": [
    "complex(False) #bool to complex"
   ]
  },
  {
   "cell_type": "code",
   "execution_count": 31,
   "id": "7d8035f7",
   "metadata": {},
   "outputs": [
    {
     "data": {
      "text/plain": [
       "(26+0j)"
      ]
     },
     "execution_count": 31,
     "metadata": {},
     "output_type": "execute_result"
    }
   ],
   "source": [
    "complex('26') #string to complex"
   ]
  },
  {
   "cell_type": "code",
   "execution_count": 33,
   "id": "cfaae03a",
   "metadata": {},
   "outputs": [
    {
     "ename": "ValueError",
     "evalue": "complex() arg is a malformed string",
     "output_type": "error",
     "traceback": [
      "\u001b[1;31m---------------------------------------------------------------------------\u001b[0m",
      "\u001b[1;31mValueError\u001b[0m                                Traceback (most recent call last)",
      "Cell \u001b[1;32mIn[33], line 1\u001b[0m\n\u001b[1;32m----> 1\u001b[0m \u001b[38;5;28;43mcomplex\u001b[39;49m\u001b[43m(\u001b[49m\u001b[38;5;124;43m'\u001b[39;49m\u001b[38;5;124;43mrupesh\u001b[39;49m\u001b[38;5;124;43m'\u001b[39;49m\u001b[43m)\u001b[49m\n",
      "\u001b[1;31mValueError\u001b[0m: complex() arg is a malformed string"
     ]
    }
   ],
   "source": [
    "complex('rupesh') # string with charecters cannot be changed to complex"
   ]
  },
  {
   "cell_type": "code",
   "execution_count": 34,
   "id": "f83d6a57",
   "metadata": {},
   "outputs": [
    {
     "data": {
      "text/plain": [
       "(100+50j)"
      ]
     },
     "execution_count": 34,
     "metadata": {},
     "output_type": "execute_result"
    }
   ],
   "source": [
    "#conversion of 2 r more Arguments to complex\n",
    "\n",
    "complex(100,50)# int double arrgument to  complex"
   ]
  },
  {
   "cell_type": "code",
   "execution_count": 36,
   "id": "6b128361",
   "metadata": {},
   "outputs": [
    {
     "data": {
      "text/plain": [
       "(50.9+25.6j)"
      ]
     },
     "execution_count": 36,
     "metadata": {},
     "output_type": "execute_result"
    }
   ],
   "source": [
    "complex(50.9,25.6)# float double arrgument to complex"
   ]
  },
  {
   "cell_type": "code",
   "execution_count": 37,
   "id": "eb67a78f",
   "metadata": {},
   "outputs": [
    {
     "data": {
      "text/plain": [
       "(1+0j)"
      ]
     },
     "execution_count": 37,
     "metadata": {},
     "output_type": "execute_result"
    }
   ],
   "source": [
    "complex(True,False)# bool double to Complex"
   ]
  },
  {
   "cell_type": "code",
   "execution_count": 38,
   "id": "cc15a88e",
   "metadata": {},
   "outputs": [
    {
     "ename": "TypeError",
     "evalue": "complex() can't take second arg if first is a string",
     "output_type": "error",
     "traceback": [
      "\u001b[1;31m---------------------------------------------------------------------------\u001b[0m",
      "\u001b[1;31mTypeError\u001b[0m                                 Traceback (most recent call last)",
      "Cell \u001b[1;32mIn[38], line 1\u001b[0m\n\u001b[1;32m----> 1\u001b[0m \u001b[38;5;28;43mcomplex\u001b[39;49m\u001b[43m(\u001b[49m\u001b[38;5;124;43m'\u001b[39;49m\u001b[38;5;124;43m10\u001b[39;49m\u001b[38;5;124;43m'\u001b[39;49m\u001b[43m,\u001b[49m\u001b[38;5;124;43m'\u001b[39;49m\u001b[38;5;124;43m6\u001b[39;49m\u001b[38;5;124;43m'\u001b[39;49m\u001b[43m)\u001b[49m\n",
      "\u001b[1;31mTypeError\u001b[0m: complex() can't take second arg if first is a string"
     ]
    }
   ],
   "source": [
    "complex('10','6')# string double arguments is not possible "
   ]
  },
  {
   "cell_type": "markdown",
   "id": "af0895c0",
   "metadata": {},
   "source": [
    "# Bool\n",
    "#in bool anything > 0 is consider as True  & < 0 is consider as False"
   ]
  },
  {
   "cell_type": "code",
   "execution_count": 39,
   "id": "d5ff0b72",
   "metadata": {},
   "outputs": [
    {
     "data": {
      "text/plain": [
       "True"
      ]
     },
     "execution_count": 39,
     "metadata": {},
     "output_type": "execute_result"
    }
   ],
   "source": [
    "bool(10) #int to Bool"
   ]
  },
  {
   "cell_type": "code",
   "execution_count": 41,
   "id": "406cb69c",
   "metadata": {},
   "outputs": [
    {
     "data": {
      "text/plain": [
       "True"
      ]
     },
     "execution_count": 41,
     "metadata": {},
     "output_type": "execute_result"
    }
   ],
   "source": [
    "bool(0.0)# float to bool\n",
    "bool(0.001)# Float to bool"
   ]
  },
  {
   "cell_type": "code",
   "execution_count": 42,
   "id": "8fe00063",
   "metadata": {},
   "outputs": [
    {
     "data": {
      "text/plain": [
       "True"
      ]
     },
     "execution_count": 42,
     "metadata": {},
     "output_type": "execute_result"
    }
   ],
   "source": [
    "bool(60+10j) # complex to bool"
   ]
  },
  {
   "cell_type": "code",
   "execution_count": 45,
   "id": "cc324b00",
   "metadata": {},
   "outputs": [
    {
     "data": {
      "text/plain": [
       "False"
      ]
     },
     "execution_count": 45,
     "metadata": {},
     "output_type": "execute_result"
    }
   ],
   "source": [
    "bool('10')# string to bool\n",
    "bool(' ')# in string with space coats considerd as True\n",
    "bool('')# in string without space coats considerd as False"
   ]
  },
  {
   "cell_type": "markdown",
   "id": "bb2ad6c6",
   "metadata": {},
   "source": [
    "# String\n"
   ]
  },
  {
   "cell_type": "code",
   "execution_count": 48,
   "id": "1213e091",
   "metadata": {},
   "outputs": [
    {
     "data": {
      "text/plain": [
       "'20'"
      ]
     },
     "execution_count": 48,
     "metadata": {},
     "output_type": "execute_result"
    }
   ],
   "source": [
    "str(20)#int to string"
   ]
  },
  {
   "cell_type": "code",
   "execution_count": 49,
   "id": "8b41e1f8",
   "metadata": {},
   "outputs": [
    {
     "data": {
      "text/plain": [
       "'36.06'"
      ]
     },
     "execution_count": 49,
     "metadata": {},
     "output_type": "execute_result"
    }
   ],
   "source": [
    "str(36.06)# float to String"
   ]
  },
  {
   "cell_type": "code",
   "execution_count": 50,
   "id": "334fa84f",
   "metadata": {},
   "outputs": [
    {
     "data": {
      "text/plain": [
       "'(6.9+20.5j)'"
      ]
     },
     "execution_count": 50,
     "metadata": {},
     "output_type": "execute_result"
    }
   ],
   "source": [
    "str(6.9+20.5j)#complex to string"
   ]
  },
  {
   "cell_type": "code",
   "execution_count": 51,
   "id": "a7df8b20",
   "metadata": {},
   "outputs": [
    {
     "data": {
      "text/plain": [
       "'True'"
      ]
     },
     "execution_count": 51,
     "metadata": {},
     "output_type": "execute_result"
    }
   ],
   "source": [
    "str(True) # bool to string"
   ]
  },
  {
   "cell_type": "code",
   "execution_count": 52,
   "id": "2e266110",
   "metadata": {},
   "outputs": [
    {
     "data": {
      "text/plain": [
       "'False'"
      ]
     },
     "execution_count": 52,
     "metadata": {},
     "output_type": "execute_result"
    }
   ],
   "source": [
    "str(False)# bool to string"
   ]
  },
  {
   "cell_type": "code",
   "execution_count": 53,
   "id": "4a3484b4",
   "metadata": {},
   "outputs": [
    {
     "data": {
      "text/plain": [
       "'1'"
      ]
     },
     "execution_count": 53,
     "metadata": {},
     "output_type": "execute_result"
    }
   ],
   "source": [
    "str(int(True))"
   ]
  },
  {
   "cell_type": "code",
   "execution_count": 54,
   "id": "67110751",
   "metadata": {},
   "outputs": [
    {
     "data": {
      "text/plain": [
       "'0'"
      ]
     },
     "execution_count": 54,
     "metadata": {},
     "output_type": "execute_result"
    }
   ],
   "source": [
    "str(int(False))"
   ]
  },
  {
   "cell_type": "markdown",
   "id": "c493a1a6",
   "metadata": {},
   "source": [
    "# Functions "
   ]
  },
  {
   "cell_type": "markdown",
   "id": "20dd10da",
   "metadata": {},
   "source": [
    "# 1.Len - to define the length\n",
    "# 2.Print - to print the value of the varible\n",
    "# 3.Type - to define the Data type of the varaible \n",
    "# 4.Id - to identify the memory location address of the value"
   ]
  },
  {
   "cell_type": "code",
   "execution_count": 59,
   "id": "6f90c4fc",
   "metadata": {},
   "outputs": [
    {
     "data": {
      "text/plain": [
       "35"
      ]
     },
     "execution_count": 59,
     "metadata": {},
     "output_type": "execute_result"
    }
   ],
   "source": [
    "#len\n",
    "import keyword\n",
    "keyword.kwlist\n",
    "len(keyword.kwlist)"
   ]
  },
  {
   "cell_type": "code",
   "execution_count": 61,
   "id": "a578ea70",
   "metadata": {},
   "outputs": [
    {
     "name": "stdout",
     "output_type": "stream",
     "text": [
      "65\n"
     ]
    }
   ],
   "source": [
    "#Print\n",
    "\n",
    "p1=65\n",
    "p1\n",
    "print(p1)"
   ]
  },
  {
   "cell_type": "code",
   "execution_count": 65,
   "id": "b58b04f8",
   "metadata": {},
   "outputs": [
    {
     "data": {
      "text/plain": [
       "bool"
      ]
     },
     "execution_count": 65,
     "metadata": {},
     "output_type": "execute_result"
    }
   ],
   "source": [
    "#Type\n",
    "t1=1.0\n",
    "t2=1\n",
    "t3=(10.6j)\n",
    "t4=(True)\n",
    "t5=('the')\n",
    "\n",
    "#type(t1)\n",
    "#type(t2)\n",
    "#type(t3)\n",
    "#type(t4)\n",
    "#type(t5)"
   ]
  },
  {
   "cell_type": "code",
   "execution_count": 67,
   "id": "3d10ea45",
   "metadata": {},
   "outputs": [
    {
     "data": {
      "text/plain": [
       "1455609747632"
      ]
     },
     "execution_count": 67,
     "metadata": {},
     "output_type": "execute_result"
    }
   ],
   "source": [
    "#id\n",
    "#id(t1)\n",
    "#id(t2)\n",
    "#id(t3)\n",
    "#id(t4)\n",
    "#id(t5)"
   ]
  },
  {
   "cell_type": "code",
   "execution_count": null,
   "id": "c8c6d717",
   "metadata": {},
   "outputs": [],
   "source": []
  }
 ],
 "metadata": {
  "kernelspec": {
   "display_name": "Python 3 (ipykernel)",
   "language": "python",
   "name": "python3"
  },
  "language_info": {
   "codemirror_mode": {
    "name": "ipython",
    "version": 3
   },
   "file_extension": ".py",
   "mimetype": "text/x-python",
   "name": "python",
   "nbconvert_exporter": "python",
   "pygments_lexer": "ipython3",
   "version": "3.10.9"
  }
 },
 "nbformat": 4,
 "nbformat_minor": 5
}
