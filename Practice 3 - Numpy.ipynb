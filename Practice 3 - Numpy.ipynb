{
 "cells": [
  {
   "attachments": {
    "image.png": {
     "image/png": "[encoded data removed]"
    }
   },
   "cell_type": "markdown",
   "id": "a2859ef8",
   "metadata": {},
   "source": [
    "![image.png](attachment:image.png)"
   ]
  },
  {
   "cell_type": "markdown",
   "id": "f2796865",
   "metadata": {},
   "source": [
    "#NumPy can be used to perform a wide variety of mathematical operations on arrays.\n",
    "#It adds powerful data structures to Python that guarantee efficient calculations with arrays and\n",
    "#matrices and it supplies an enormous library of high-level mathematical functions that operate on \n",
    "#these arrays and matrices."
   ]
  },
  {
   "cell_type": "code",
   "execution_count": 1,
   "id": "88482369",
   "metadata": {},
   "outputs": [],
   "source": [
    "#Importing NumPy \n",
    "import numpy as np"
   ]
  },
  {
   "cell_type": "markdown",
   "id": "4eaa1b69",
   "metadata": {},
   "source": [
    "# ARRAYS:\n",
    "\n"
   ]
  },
  {
   "cell_type": "code",
   "execution_count": 2,
   "id": "68ece4e9",
   "metadata": {},
   "outputs": [
    {
     "ename": "NameError",
     "evalue": "name 'l' is not defined",
     "output_type": "error",
     "traceback": [
      "\u001b[1;31m---------------------------------------------------------------------------\u001b[0m",
      "\u001b[1;31mNameError\u001b[0m                                 Traceback (most recent call last)",
      "Cell \u001b[1;32mIn[2], line 7\u001b[0m\n\u001b[0;32m      1\u001b[0m \u001b[38;5;66;03m#Arrays are fundamental data structures in computer programming\u001b[39;00m\n\u001b[0;32m      2\u001b[0m \u001b[38;5;66;03m#that store collections of elements in a specific order. \u001b[39;00m\n\u001b[0;32m      3\u001b[0m \n\u001b[0;32m      4\u001b[0m \n\u001b[0;32m      5\u001b[0m \u001b[38;5;66;03m#l=[0,1,2,3,4,5]\u001b[39;00m\n\u001b[0;32m      6\u001b[0m \u001b[38;5;66;03m#l\u001b[39;00m\n\u001b[1;32m----> 7\u001b[0m ary\u001b[38;5;241m=\u001b[39mnp\u001b[38;5;241m.\u001b[39marray(\u001b[43ml\u001b[49m)\n\u001b[0;32m      8\u001b[0m ary\n",
      "\u001b[1;31mNameError\u001b[0m: name 'l' is not defined"
     ]
    }
   ],
   "source": [
    "#Arrays are fundamental data structures in computer programming\n",
    "#that store collections of elements in a specific order. \n",
    "\n",
    "\n",
    "#l=[0,1,2,3,4,5]\n",
    "#l\n",
    "ary=np.array(l)\n",
    "ary"
   ]
  },
  {
   "cell_type": "markdown",
   "id": "a8dfe79a",
   "metadata": {},
   "source": [
    "# Functions Used in NamPy:"
   ]
  },
  {
   "cell_type": "markdown",
   "id": "0061ffa1",
   "metadata": {},
   "source": [
    "# 1.Creating Array by Using NumPy"
   ]
  },
  {
   "cell_type": "code",
   "execution_count": null,
   "id": "6a980a6b",
   "metadata": {},
   "outputs": [],
   "source": [
    "ary2=np.array([[11,12,13,14,15],[16,17,18,19,20]])# Create a NumPy array from a nested Python list\n",
    "ary2"
   ]
  },
  {
   "cell_type": "markdown",
   "id": "19a68ce6",
   "metadata": {},
   "source": [
    "# numpy.array(): \n",
    "#Create an array from a Python list or tuple"
   ]
  },
  {
   "cell_type": "code",
   "execution_count": null,
   "id": "3331839f",
   "metadata": {},
   "outputs": [],
   "source": [
    "ary1=np.array([6,7,8,9,10])#Create a NumPy array from a Python list\n",
    "ary1"
   ]
  },
  {
   "cell_type": "code",
   "execution_count": null,
   "id": "95aec902",
   "metadata": {},
   "outputs": [],
   "source": [
    "ary3=np.array([21,22,23], dtype = float)# Create a NumPy array with a specified data type\n",
    "ary3"
   ]
  },
  {
   "cell_type": "code",
   "execution_count": 3,
   "id": "bddf2c72",
   "metadata": {},
   "outputs": [
    {
     "data": {
      "text/plain": [
       "array([[[[6]]]])"
      ]
     },
     "execution_count": 3,
     "metadata": {},
     "output_type": "execute_result"
    }
   ],
   "source": [
    "ary4=np.array(6,ndmin=4)# Create a NumPy array with a minimum number of dimensions\n",
    "ary4"
   ]
  },
  {
   "cell_type": "markdown",
   "id": "a5a140b5",
   "metadata": {},
   "source": [
    "# numpy.zeros():\n",
    "#This a function in the NumPy library that creates an array filled with zeros.\n",
    "It is used to initialize arrays with specific shapes and data types,\n",
    "where all elements are set to 0. This function is particularly useful when you want to allocate memory for an array \n",
    "and initialize its elements to zeros before performing computations."
   ]
  },
  {
   "cell_type": "code",
   "execution_count": 4,
   "id": "75a7d06a",
   "metadata": {},
   "outputs": [
    {
     "data": {
      "text/plain": [
       "array([0., 0., 0., 0., 0.])"
      ]
     },
     "execution_count": 4,
     "metadata": {},
     "output_type": "execute_result"
    }
   ],
   "source": [
    "# Create a 1-dimensional array filled with zeros\n",
    "ary1d = np.zeros(5)\n",
    "ary1d     "
   ]
  },
  {
   "cell_type": "code",
   "execution_count": 5,
   "id": "023e4645",
   "metadata": {},
   "outputs": [
    {
     "data": {
      "text/plain": [
       "array([[0., 0., 0., 0.],\n",
       "       [0., 0., 0., 0.],\n",
       "       [0., 0., 0., 0.]])"
      ]
     },
     "execution_count": 5,
     "metadata": {},
     "output_type": "execute_result"
    }
   ],
   "source": [
    "# Create a 2-dimensional array (3x4) filled with zeros\n",
    "ary2d = np.zeros((3, 4))\n",
    "ary2d "
   ]
  },
  {
   "cell_type": "code",
   "execution_count": 6,
   "id": "aaa89749",
   "metadata": {},
   "outputs": [
    {
     "data": {
      "text/plain": [
       "array([[[0., 0.],\n",
       "        [0., 0.],\n",
       "        [0., 0.]],\n",
       "\n",
       "       [[0., 0.],\n",
       "        [0., 0.],\n",
       "        [0., 0.]]])"
      ]
     },
     "execution_count": 6,
     "metadata": {},
     "output_type": "execute_result"
    }
   ],
   "source": [
    "# Create a 3-dimensional array (2x3x2) filled with zeros\n",
    "ary3d = np.zeros((2, 3, 2))\n",
    "ary3d"
   ]
  },
  {
   "cell_type": "code",
   "execution_count": 7,
   "id": "3975c84a",
   "metadata": {},
   "outputs": [
    {
     "data": {
      "text/plain": [
       "array([0, 0, 0, 0])"
      ]
     },
     "execution_count": 7,
     "metadata": {},
     "output_type": "execute_result"
    }
   ],
   "source": [
    "# Create a 1-dimensional array filled with integer zeros\n",
    "aryi1d=np.zeros(4, dtype=int)\n",
    "aryi1d"
   ]
  },
  {
   "cell_type": "markdown",
   "id": "cdf8b71e",
   "metadata": {},
   "source": [
    "# numpy.ones():\n",
    "#same as numpy.zeros here zero is replaced with one."
   ]
  },
  {
   "cell_type": "code",
   "execution_count": 8,
   "id": "c3e83241",
   "metadata": {},
   "outputs": [
    {
     "data": {
      "text/plain": [
       "array([1., 1., 1., 1., 1.])"
      ]
     },
     "execution_count": 8,
     "metadata": {},
     "output_type": "execute_result"
    }
   ],
   "source": [
    "aryo1d = np.ones(5)# Create a 1-dimensional array filled with ones\n",
    "aryo1d"
   ]
  },
  {
   "cell_type": "code",
   "execution_count": 9,
   "id": "f5a864bc",
   "metadata": {},
   "outputs": [
    {
     "data": {
      "text/plain": [
       "array([[1., 1.],\n",
       "       [1., 1.],\n",
       "       [1., 1.],\n",
       "       [1., 1.],\n",
       "       [1., 1.],\n",
       "       [1., 1.]])"
      ]
     },
     "execution_count": 9,
     "metadata": {},
     "output_type": "execute_result"
    }
   ],
   "source": [
    "aryo2d=np.ones((6,2))# Create a 2-dimensional array (6*2) filled with ones\n",
    "aryo2d"
   ]
  },
  {
   "cell_type": "code",
   "execution_count": 10,
   "id": "77a78ecc",
   "metadata": {},
   "outputs": [
    {
     "data": {
      "text/plain": [
       "array([[[1., 1.],\n",
       "        [1., 1.],\n",
       "        [1., 1.]],\n",
       "\n",
       "       [[1., 1.],\n",
       "        [1., 1.],\n",
       "        [1., 1.]]])"
      ]
     },
     "execution_count": 10,
     "metadata": {},
     "output_type": "execute_result"
    }
   ],
   "source": [
    "# Create a 3-dimensional array (2x3x2) filled with Ones\n",
    "aro3d = np.ones((2, 3, 2))\n",
    "aro3d"
   ]
  },
  {
   "cell_type": "code",
   "execution_count": 11,
   "id": "5d356030",
   "metadata": {},
   "outputs": [
    {
     "data": {
      "text/plain": [
       "array([1, 1, 1, 1])"
      ]
     },
     "execution_count": 11,
     "metadata": {},
     "output_type": "execute_result"
    }
   ],
   "source": [
    "# Create a 1-dimensional array filled with integer Ones\n",
    "aryoi1d=np.ones(4, dtype=int)\n",
    "aryoi1d"
   ]
  },
  {
   "cell_type": "markdown",
   "id": "21145d23",
   "metadata": {},
   "source": [
    "# numpy.empty():\n",
    "#This function in the NumPy library  creates an uninitialized array.Unlike numpy.zeros() and numpy.ones(), numpy.empty() does not set the values of the array elements to any particular value (such as 0 or 1). Instead, it allocates memory for the array without initializing the elements, which means the content of the array will be whatever data was already present in that memory location."
   ]
  },
  {
   "cell_type": "code",
   "execution_count": 12,
   "id": "e50e7a20",
   "metadata": {},
   "outputs": [
    {
     "data": {
      "text/plain": [
       "array([0., 0., 0., 0., 0., 0.])"
      ]
     },
     "execution_count": 12,
     "metadata": {},
     "output_type": "execute_result"
    }
   ],
   "source": [
    "arE1d=np.empty(6)# Create a 1-dimensional uninitialized array\n",
    "arE1d"
   ]
  },
  {
   "cell_type": "code",
   "execution_count": 13,
   "id": "d5a890e2",
   "metadata": {},
   "outputs": [
    {
     "data": {
      "text/plain": [
       "array([[1.19924749e-311, 4.19955799e-322, 0.00000000e+000,\n",
       "        0.00000000e+000],\n",
       "       [1.24610383e-306, 1.15998412e-028, 4.31603868e-080,\n",
       "        1.94919985e-153],\n",
       "       [1.35717430e+131, 7.54951879e-096, 1.06239598e-153,\n",
       "        3.98472821e+252],\n",
       "       [1.06244660e-153, 9.78750380e+199, 6.97843734e+252,\n",
       "        1.42421732e-306]])"
      ]
     },
     "execution_count": 13,
     "metadata": {},
     "output_type": "execute_result"
    }
   ],
   "source": [
    "arE2d=np.empty((4,4))# Create a 2-dimensional uninitialized array (4x4)\n",
    "arE2d"
   ]
  },
  {
   "cell_type": "code",
   "execution_count": 14,
   "id": "282fc572",
   "metadata": {},
   "outputs": [
    {
     "data": {
      "text/plain": [
       "array([[[1.19921214e-311, 1.19921735e-311, 0.00000000e+000],\n",
       "        [0.00000000e+000, 1.62922163e-296, 1.15998412e-028],\n",
       "        [4.31603868e-080, 1.94919985e-153, 1.35717430e+131]],\n",
       "\n",
       "       [[7.19081964e+140, 6.01347002e-154, 4.57667791e-072],\n",
       "        [6.01391519e-154, 7.06764512e-096, 1.81148490e-152],\n",
       "        [6.14099335e-071, 1.03080217e+136, 6.01347002e-154]],\n",
       "\n",
       "       [[7.19081964e+140, 6.01347002e-154, 4.57667791e-072],\n",
       "        [1.06239598e-153, 3.98472821e+252, 1.06244660e-153],\n",
       "        [9.78750380e+199, 6.97843734e+252, 1.35218484e-311]]])"
      ]
     },
     "execution_count": 14,
     "metadata": {},
     "output_type": "execute_result"
    }
   ],
   "source": [
    "arE3d=np.empty((3,3,3))# Create a 3-dimensional uninitialized array (3x3x3)\n",
    "arE3d"
   ]
  },
  {
   "cell_type": "markdown",
   "id": "ba0ad95f",
   "metadata": {},
   "source": [
    "# numpy.arange():\n",
    "#This function in the NumPy library that returns an array with evenly spaced values within a specified range. It is similar to Python's built-in range() function but returns an array instead of a list. The function allows you to create a 1-dimensional array containing a sequence of numbers with a specified start, stop, and step size.\n",
    "\n"
   ]
  },
  {
   "cell_type": "code",
   "execution_count": 15,
   "id": "4217ceb1",
   "metadata": {},
   "outputs": [
    {
     "data": {
      "text/plain": [
       "array([0, 1, 2, 3, 4])"
      ]
     },
     "execution_count": 15,
     "metadata": {},
     "output_type": "execute_result"
    }
   ],
   "source": [
    "# Create an array with values from 0 to 4 (exclusive)\n",
    "arAR = np.arange(5)\n",
    "arAR"
   ]
  },
  {
   "cell_type": "code",
   "execution_count": 16,
   "id": "523b7e0f",
   "metadata": {},
   "outputs": [
    {
     "data": {
      "text/plain": [
       "array([2, 4])"
      ]
     },
     "execution_count": 16,
     "metadata": {},
     "output_type": "execute_result"
    }
   ],
   "source": [
    "# Create an array with values from 2 to 5 (exclusive) with a step of 2\n",
    "arAR1 = np.arange(2, 5, 2)\n",
    "arAR1"
   ]
  },
  {
   "cell_type": "code",
   "execution_count": 17,
   "id": "845e6e1c",
   "metadata": {},
   "outputs": [
    {
     "data": {
      "text/plain": [
       "array([1. , 1.5, 2. , 2.5])"
      ]
     },
     "execution_count": 17,
     "metadata": {},
     "output_type": "execute_result"
    }
   ],
   "source": [
    "# Create an array with floating-point values from 1 to 3 (exclusive) with a step of 0.5\n",
    "arAR2 = np.arange(1, 3, 0.5)\n",
    "arAR2"
   ]
  },
  {
   "cell_type": "code",
   "execution_count": 18,
   "id": "231a661f",
   "metadata": {},
   "outputs": [
    {
     "data": {
      "text/plain": [
       "array([10,  9,  8,  7,  6,  5,  4,  3,  2])"
      ]
     },
     "execution_count": 18,
     "metadata": {},
     "output_type": "execute_result"
    }
   ],
   "source": [
    "# Create an array with values from 10 to 1 (exclusive) with a negative step of -1\n",
    "arAR3 = np.arange(10, 1, -1)\n",
    "arAR3"
   ]
  },
  {
   "cell_type": "markdown",
   "id": "7591594d",
   "metadata": {},
   "source": [
    "# numpy.linspace():\n",
    "#This  function in the NumPy library that returns an array with evenly spaced values over a specified range. Unlike numpy.arange(), which generates a sequence with a specified start, stop, and step size, numpy.linspace() generates a sequence with a specified start, stop, and the number of elements in the sequence.\n",
    "#This is useful when you need a specific number of evenly spaced values within a range, and it is commonly used in plotting, interpolation, and other applications where a continuous range of values is required."
   ]
  },
  {
   "cell_type": "code",
   "execution_count": 19,
   "id": "14994317",
   "metadata": {},
   "outputs": [
    {
     "data": {
      "text/plain": [
       "array([ 1. ,  5.5, 10. ])"
      ]
     },
     "execution_count": 19,
     "metadata": {},
     "output_type": "execute_result"
    }
   ],
   "source": [
    "# Create an array with 3 evenly spaced values from 1 to 10 (inclusive)\n",
    "arLS = np.linspace(1, 10, num=3)\n",
    "arLS\n"
   ]
  },
  {
   "cell_type": "code",
   "execution_count": 20,
   "id": "fba501e9",
   "metadata": {},
   "outputs": [
    {
     "data": {
      "text/plain": [
       "array([0.        , 0.11111111, 0.22222222, 0.33333333, 0.44444444,\n",
       "       0.55555556, 0.66666667, 0.77777778, 0.88888889, 1.        ])"
      ]
     },
     "execution_count": 20,
     "metadata": {},
     "output_type": "execute_result"
    }
   ],
   "source": [
    "# Create an array with 10 evenly spaced values from 0 to 1 (inclusive)\n",
    "arLS1 = np.linspace(0, 1, num=10)\n",
    "arLS1"
   ]
  },
  {
   "cell_type": "code",
   "execution_count": 21,
   "id": "74ca25b1",
   "metadata": {},
   "outputs": [
    {
     "data": {
      "text/plain": [
       "array([1. , 1.4, 1.8, 2.2, 2.6, 3. , 3.4, 3.8, 4.2, 4.6])"
      ]
     },
     "execution_count": 21,
     "metadata": {},
     "output_type": "execute_result"
    }
   ],
   "source": [
    "# Create an array with 10 evenly spaced values from 1 to 5 (exclusive) and exclude the endpoint\n",
    "arLS2 = np.linspace(1, 5, num=10, endpoint=False)\n",
    "arLS2"
   ]
  },
  {
   "cell_type": "code",
   "execution_count": 22,
   "id": "9da85171",
   "metadata": {},
   "outputs": [
    {
     "data": {
      "text/plain": [
       "array([ 1. ,  5.5, 10. ])"
      ]
     },
     "execution_count": 22,
     "metadata": {},
     "output_type": "execute_result"
    }
   ],
   "source": [
    "# Create an array with 3 evenly spaced values from 1 to 10 (inclusive) and return the step\n",
    "arLS3, step_size = np.linspace(1, 10, num=3, retstep=True)\n",
    "arLS3\n",
    "#print(step_size)"
   ]
  },
  {
   "cell_type": "markdown",
   "id": "ba24b51c",
   "metadata": {},
   "source": [
    "# 1.Arithmetic operations: \n",
    "\n",
    "# 1.Addition: np.add(arr1, arr2) or arr1 + arr2\n",
    "# 2.Subtraction: np.subtract(arr1, arr2) or arr1 - arr2\n",
    "# 3.Multiplication: np.multiply(arr1, arr2) or arr1 * arr2\n",
    "# 4.Division: np.divide(arr1, arr2) or arr1 / arr2\n",
    "# 5.Floor Division: np.floor_divide(arr1, arr2) or arr1 // arr2\n",
    "# 6.Modulus (Remainder): np.mod(arr1, arr2) or arr1 % arr2\n",
    "# 7.Exponentiation: np.power(base, exponent) or base ** exponent\n",
    "# 8.Negative: np.negative(arr) or -arr"
   ]
  },
  {
   "cell_type": "code",
   "execution_count": 23,
   "id": "8b876a0b",
   "metadata": {},
   "outputs": [
    {
     "data": {
      "text/plain": [
       "array([5, 7, 9])"
      ]
     },
     "execution_count": 23,
     "metadata": {},
     "output_type": "execute_result"
    }
   ],
   "source": [
    "#Addition:\n",
    "a=np.array([1,2,3])\n",
    "a\n",
    "a1=np.array([4,5,6])\n",
    "a1\n",
    "a3=np.add(a,a1)\n",
    "a3"
   ]
  },
  {
   "cell_type": "code",
   "execution_count": 24,
   "id": "b955811d",
   "metadata": {},
   "outputs": [
    {
     "data": {
      "text/plain": [
       "array([-3, -3, -3])"
      ]
     },
     "execution_count": 24,
     "metadata": {},
     "output_type": "execute_result"
    }
   ],
   "source": [
    "#Subtraction:\n",
    "a4=np.subtract(a,a1)\n",
    "a4"
   ]
  },
  {
   "cell_type": "code",
   "execution_count": 25,
   "id": "695645e1",
   "metadata": {},
   "outputs": [
    {
     "data": {
      "text/plain": [
       "array([ 4, 10, 18])"
      ]
     },
     "execution_count": 25,
     "metadata": {},
     "output_type": "execute_result"
    }
   ],
   "source": [
    "#Multiplication:\n",
    "a5=np.multiply(a,a1)\n",
    "a5"
   ]
  },
  {
   "cell_type": "code",
   "execution_count": 26,
   "id": "d93d5036",
   "metadata": {},
   "outputs": [
    {
     "data": {
      "text/plain": [
       "array([0.25, 0.4 , 0.5 ])"
      ]
     },
     "execution_count": 26,
     "metadata": {},
     "output_type": "execute_result"
    }
   ],
   "source": [
    "#Division:\n",
    "a6=np.divide(a,a1)\n",
    "a6"
   ]
  },
  {
   "cell_type": "code",
   "execution_count": 27,
   "id": "d7b6fe99",
   "metadata": {},
   "outputs": [
    {
     "data": {
      "text/plain": [
       "array([ 7.3890561 , 20.08553692, 54.59815003])"
      ]
     },
     "execution_count": 27,
     "metadata": {},
     "output_type": "execute_result"
    }
   ],
   "source": [
    "#Exponentiation (element-wise power):\n",
    "import numpy as np\n",
    "\n",
    "# Exponentiation using numpy.power or **\n",
    "a7 = np.array([2, 3, 4])\n",
    "exponent = 3\n",
    "a8 = np.power(a7, exponent)\n",
    "\n",
    "a9=a1**exponent\n",
    "a9\n",
    "# Exponential function using np.exp()\n",
    "a10=np.exp(a7)\n",
    "a10"
   ]
  },
  {
   "cell_type": "code",
   "execution_count": 28,
   "id": "dc78bd82",
   "metadata": {},
   "outputs": [
    {
     "data": {
      "text/plain": [
       "array([1, 2, 3])"
      ]
     },
     "execution_count": 28,
     "metadata": {},
     "output_type": "execute_result"
    }
   ],
   "source": [
    "#Modulus (Remainder)the modulus operation is performed using the % operator, \n",
    "#which calculates the remainder of division between two arrays or scalar values element-wise.\n",
    "a11=a%a1\n",
    "a12=np.mod(a,a1)\n",
    "a12"
   ]
  },
  {
   "cell_type": "code",
   "execution_count": 29,
   "id": "6393c819",
   "metadata": {},
   "outputs": [
    {
     "data": {
      "text/plain": [
       "array([0, 0, 0])"
      ]
     },
     "execution_count": 29,
     "metadata": {},
     "output_type": "execute_result"
    }
   ],
   "source": [
    "#Floor Division   can be performed using the // operator or the numpy.floor_divide() function. \n",
    "#Floor division divides two arrays or scalar values element-wise and rounds down the result to the\n",
    "#nearest integer.\n",
    "a13=np.floor_divide(a,a1)\n",
    "a13\n",
    "a14=a//a1\n",
    "a14\n"
   ]
  },
  {
   "cell_type": "code",
   "execution_count": 30,
   "id": "508dc0ad",
   "metadata": {},
   "outputs": [
    {
     "data": {
      "text/plain": [
       "array([-4, -5, -6])"
      ]
     },
     "execution_count": 30,
     "metadata": {},
     "output_type": "execute_result"
    }
   ],
   "source": [
    "#NEAGTIVE you can create negative versions of arrays ornegate individual elements withinan array\n",
    "#using the unary negation operator '-'.\n",
    "a15=-a1\n",
    "a15"
   ]
  },
  {
   "cell_type": "markdown",
   "id": "e63df067",
   "metadata": {},
   "source": [
    "# 2.Mathematical Functions:\n",
    "\n",
    "# >>np.sin(), np.cos(), np.tan(): Trigonometric functions.\n",
    "# >>np.exp(), np.log(), np.log10(): Exponential and logarithmic functions.\n",
    "# >>np.sqrt(), np.power(): Square root and exponentiation functions.\n",
    "# >>np.abs(): Absolute value function.\n",
    "# >>np.floor(), np.ceil(), np.round(): Rounding functions.\n",
    "# >>np.min(), np.max(), np.mean(), np.median(): Array statistics.\n"
   ]
  },
  {
   "cell_type": "code",
   "execution_count": 31,
   "id": "680c3580",
   "metadata": {},
   "outputs": [
    {
     "data": {
      "text/plain": [
       "array([1, 2, 3, 4])"
      ]
     },
     "execution_count": 31,
     "metadata": {},
     "output_type": "execute_result"
    }
   ],
   "source": [
    "m1=np.array([5,6,7,8])\n",
    "m2=np.array([9,10,11])\n",
    "n1=np.array([1,2,3,4])\n",
    "n2=np.array([5,6,7,8])\n",
    "\n",
    "n1"
   ]
  },
  {
   "cell_type": "code",
   "execution_count": 32,
   "id": "b8a21e56",
   "metadata": {},
   "outputs": [
    {
     "name": "stderr",
     "output_type": "stream",
     "text": [
      "C:\\Users\\Kiran Kaushik Reddy\\AppData\\Local\\Temp\\ipykernel_12328\\1108549580.py:5: RuntimeWarning: invalid value encountered in arcsin\n",
      "  m6=np.arcsin(m1)# Compute the inverse sine (arcsine) of the input array m1.\n",
      "C:\\Users\\Kiran Kaushik Reddy\\AppData\\Local\\Temp\\ipykernel_12328\\1108549580.py:6: RuntimeWarning: invalid value encountered in arccos\n",
      "  m7=np.arccos(m1)#Compute the inverse cosine (arccosine) of the input array m1.\n"
     ]
    }
   ],
   "source": [
    "#Trigonometric functions\n",
    "m3=np.sin(m1)#Compute the sine of the input array m1.\n",
    "m4=np.cos(m1)# Compute the cosine of the input array m1.\n",
    "m5=np.tan(m1)#Compute the tangent of the input array m1\n",
    "m6=np.arcsin(m1)# Compute the inverse sine (arcsine) of the input array m1.\n",
    "m7=np.arccos(m1)#Compute the inverse cosine (arccosine) of the input array m1.\n",
    "m8=np.arctan(m1)# Compute the inverse tangent (arctangent) of the input array m1.\n",
    "m9=np.arctan2(n2,n1)# Compute the four-quadrant arctangent of n2/n1 element-wise.\n",
    "m10=np.deg2rad(n1)#Convert angles from degrees to radians.\n",
    "m11=np.rad2deg(n2)# Convert angles from radians to degrees.\n",
    "m12=np.hypot(n1, n2)#Given the \"legs\" of a right-angle triangle, returns its hypotenuse."
   ]
  },
  {
   "cell_type": "code",
   "execution_count": 33,
   "id": "9ddcd8af",
   "metadata": {},
   "outputs": [],
   "source": [
    "#Exponential and logarithmic functions to perform element-wise calculations on arrays\n",
    "n3=np.exp(n1)#Compute the exponential of the input array n1.\n",
    "n4=np.exp2(n1)# Compute 2 raised to the power of the input array n1.\n",
    "n5=np.power(n1,exponent)#Raise the elements of the input array base to the power of exponent\n"
   ]
  },
  {
   "cell_type": "code",
   "execution_count": 34,
   "id": "a7d41454",
   "metadata": {},
   "outputs": [],
   "source": [
    "#Logarithmic Functions:\n",
    "l1=np.log(n1)# Compute the natural logarithm (base e) of the input array n1.\n",
    "l2=np.log2(n1)#Compute the base-2 logarithm of the input array n1.\n",
    "l3=np.log10(n1)#Compute the common logarithm (base 10) of the input array n1.\n",
    "l4=np.log1p(n1)# Compute the natural logarithm (base e) of 1 + n1.\n",
    "#Square Root Functions:\n",
    "l5=np.sqrt(n1)#Compute the square root of the input array n1.\n",
    "#Absolute value function:\n",
    "l6=np.abs(n1)#Calculate the absolute value of the array(n1).\n"
   ]
  },
  {
   "cell_type": "code",
   "execution_count": 35,
   "id": "5a03718b",
   "metadata": {},
   "outputs": [],
   "source": [
    "#Rounding functions: that allow you to round elements in an array to specific decimal places or\n",
    "#to the nearest integer. \n",
    "r0=np.array([1.0,2.23,3.333,4.5,5.5])\n",
    "r1=np.round(r0, 1)# Round the elements of the input array arr to the specified number of decimals. \n",
    "                  #If decimals is not provided, elements are rounded to the nearest integer.\n",
    "r2=np.around(r0,2)#Same as numpy.round(), rounds elements to the specified number of decimals\n",
    "r3=np.floor(r0)#Round down the elements of the input array arr to the nearest integer or \n",
    "               #the next lower whole number.\n",
    "r4=np.ceil(n1)#Round up the elements of the input array arr to the nearest integer or \n",
    "              #the next higher whole number.\n",
    "r5=np.trunc(n1)# Truncate the decimal values of the elements in the input array arr and\n",
    "               #return the integer part.\n",
    "\n",
    "\n"
   ]
  },
  {
   "cell_type": "code",
   "execution_count": 36,
   "id": "2335c8cb",
   "metadata": {},
   "outputs": [],
   "source": [
    "#Array statistics:\n",
    "#These functions allow you to compute various statistics like mean, median, standard deviation,\n",
    "#variance, minimum, maximum, and more. \n",
    "i=np.array([1,2,3,4,5,6,7,8,9,10])\n",
    "i\n",
    "as1=np.mean(n1)# Compute the arithmetic mean of the elements in the input array n1.\n",
    "as2=np.median(n1)#Compute the median of the elements in the input array n1.\n",
    "as3=np.std(n1)#Compute the standard deviation of the elements in the input array n1.\n",
    "as4=np.var(n1)#Compute the variance of the elements in the input array n1.\n",
    "as5=np.min(n1)#Find the minimum value in the input array n1.\n",
    "as6=np.max(n1)#Find the maximum value in the input array n1.\n",
    "as7=np.sum(n1)#Compute the sum of the elements in the input array n1.\n",
    "as8=np.prod(n1)#Compute the product of the elements in the input array n1.\n",
    "as9=np.argmin(n1)#Find the index of the minimum value in the input array n1.\n",
    "as10=np.argmax(n1)#Find the index of the maximum value in the input array n1."
   ]
  },
  {
   "cell_type": "markdown",
   "id": "1e8beb1b",
   "metadata": {},
   "source": [
    "# INDEXING FUNCTIONS:\n"
   ]
  },
  {
   "cell_type": "code",
   "execution_count": 55,
   "id": "2f209322",
   "metadata": {},
   "outputs": [
    {
     "data": {
      "text/plain": [
       "array([[1, 2, 3],\n",
       "       [4, 5, 6],\n",
       "       [7, 8, 9]])"
      ]
     },
     "execution_count": 55,
     "metadata": {},
     "output_type": "execute_result"
    }
   ],
   "source": [
    "#Single integer index:\n",
    "import numpy as np\n",
    "ix = np.array([[1, 2, 3],\n",
    "                [4, 5, 6],\n",
    "                [7, 8, 9]])\n",
    "ix"
   ]
  },
  {
   "cell_type": "code",
   "execution_count": 56,
   "id": "62275826",
   "metadata": {},
   "outputs": [
    {
     "data": {
      "text/plain": [
       "1"
      ]
     },
     "execution_count": 56,
     "metadata": {},
     "output_type": "execute_result"
    }
   ],
   "source": [
    "ix0_0 = ix[0, 0] # Access the element at the first row and first column (1)\n",
    "ix0_0"
   ]
  },
  {
   "cell_type": "code",
   "execution_count": 57,
   "id": "100b0cbd",
   "metadata": {},
   "outputs": [
    {
     "data": {
      "text/plain": [
       "6"
      ]
     },
     "execution_count": 57,
     "metadata": {},
     "output_type": "execute_result"
    }
   ],
   "source": [
    "ix_1_2 = ix[1, 2]# Access the element at the second row and third column (6)\n",
    "ix_1_2"
   ]
  },
  {
   "cell_type": "code",
   "execution_count": 58,
   "id": "1ae452b3",
   "metadata": {},
   "outputs": [
    {
     "data": {
      "text/plain": [
       "8"
      ]
     },
     "execution_count": 58,
     "metadata": {},
     "output_type": "execute_result"
    }
   ],
   "source": [
    "ix2_1=ix[2,1]## Access the element at the third row and second column (8)\n",
    "ix2_1"
   ]
  },
  {
   "cell_type": "code",
   "execution_count": 59,
   "id": "591149f1",
   "metadata": {},
   "outputs": [
    {
     "data": {
      "text/plain": [
       "array([[1, 2, 3],\n",
       "       [4, 5, 6],\n",
       "       [7, 8, 9]])"
      ]
     },
     "execution_count": 59,
     "metadata": {},
     "output_type": "execute_result"
    }
   ],
   "source": [
    "#Slicing:\n",
    "ixs1=ix[:3]\n",
    "ixs1"
   ]
  },
  {
   "cell_type": "code",
   "execution_count": 61,
   "id": "dec044d1",
   "metadata": {},
   "outputs": [
    {
     "data": {
      "text/plain": [
       "array([[7, 8, 9]])"
      ]
     },
     "execution_count": 61,
     "metadata": {},
     "output_type": "execute_result"
    }
   ],
   "source": [
    "ixs2=ix[2:]\n",
    "ixs2"
   ]
  },
  {
   "cell_type": "code",
   "execution_count": 62,
   "id": "ee8fbd9f",
   "metadata": {},
   "outputs": [
    {
     "data": {
      "text/plain": [
       "3"
      ]
     },
     "execution_count": 62,
     "metadata": {},
     "output_type": "execute_result"
    }
   ],
   "source": [
    "#Multi-dimensional arrays:\n",
    "md=ix[0,2]\n",
    "md"
   ]
  },
  {
   "cell_type": "code",
   "execution_count": 63,
   "id": "75625035",
   "metadata": {},
   "outputs": [
    {
     "data": {
      "text/plain": [
       "array([[2, 3],\n",
       "       [5, 6]])"
      ]
     },
     "execution_count": 63,
     "metadata": {},
     "output_type": "execute_result"
    }
   ],
   "source": [
    "md1=ix[:2,1:]\n",
    "md1"
   ]
  },
  {
   "cell_type": "code",
   "execution_count": 70,
   "id": "aabbdfa9",
   "metadata": {},
   "outputs": [
    {
     "data": {
      "text/plain": [
       "array([1, 2, 3, 4, 5, 6, 7, 8, 9])"
      ]
     },
     "execution_count": 70,
     "metadata": {},
     "output_type": "execute_result"
    }
   ],
   "source": [
    "#Boolean indexing:(Masking)(also called boolean masks) to filter elements from a NumPy array based\n",
    "#on certain conditions. The result is a new array containing only the elements that satisfy the\n",
    "#specified condition.\n",
    "bi=np.array([1,2,3,4,5,6,7,8,9])\n",
    "bi\n",
    "    \n",
    "    "
   ]
  },
  {
   "cell_type": "code",
   "execution_count": 67,
   "id": "822764bc",
   "metadata": {},
   "outputs": [
    {
     "data": {
      "text/plain": [
       "array([False, False, False,  True,  True,  True,  True,  True,  True])"
      ]
     },
     "execution_count": 67,
     "metadata": {},
     "output_type": "execute_result"
    }
   ],
   "source": [
    "mask= bi>3# Define a boolean mask based on a condition (e.g., elements greater than 3)\n",
    "mask"
   ]
  },
  {
   "cell_type": "code",
   "execution_count": 69,
   "id": "89b6f2d2",
   "metadata": {},
   "outputs": [
    {
     "data": {
      "text/plain": [
       "array([4, 5, 6, 7, 8, 9])"
      ]
     },
     "execution_count": 69,
     "metadata": {},
     "output_type": "execute_result"
    }
   ],
   "source": [
    "bi1=bi[mask]# Use the boolean mask to filter elements from the original array\n",
    "bi1"
   ]
  },
  {
   "cell_type": "markdown",
   "id": "3794a63a",
   "metadata": {},
   "source": [
    "# Random Number Functions:\n",
    "#Functions to work with random numbers, making it a powerful tool for generating random data for simulations, testing, and other purposes. "
   ]
  },
  {
   "cell_type": "code",
   "execution_count": 71,
   "id": "17bacd6f",
   "metadata": {},
   "outputs": [
    {
     "data": {
      "text/plain": [
       "array([0.45696161, 0.13282704, 0.15153895, 0.79652496, 0.72486351])"
      ]
     },
     "execution_count": 71,
     "metadata": {},
     "output_type": "execute_result"
    }
   ],
   "source": [
    "#np.random.rand(): This function generates random numbers from a uniform distribution over the\n",
    "#interval [0, 1) in the specified shape.\n",
    "ra1=np.random.rand(5)# Generate a 1D array with 5 random numbers between 0 and 1.\n",
    "ra1\n"
   ]
  },
  {
   "cell_type": "code",
   "execution_count": 72,
   "id": "914f7773",
   "metadata": {},
   "outputs": [
    {
     "data": {
      "text/plain": [
       "array([[ 0.12766566,  0.1244802 ],\n",
       "       [ 0.94717239, -1.4493421 ],\n",
       "       [ 0.9637503 , -1.48687232]])"
      ]
     },
     "execution_count": 72,
     "metadata": {},
     "output_type": "execute_result"
    }
   ],
   "source": [
    "#np.random.randn(): This function returns random numbers from a standard normal distribution\n",
    "#(mean = 0, standard deviation = 1) in the specified shape.\n",
    "ra2=np.random.randn(3,2)# Generate a 2D array with 3 rows and 2 columns of random numbers from a \n",
    "                        #standard normal distribution\n",
    "ra2"
   ]
  },
  {
   "cell_type": "code",
   "execution_count": 73,
   "id": "07487136",
   "metadata": {},
   "outputs": [
    {
     "data": {
      "text/plain": [
       "array([3, 7, 0, 2, 4])"
      ]
     },
     "execution_count": 73,
     "metadata": {},
     "output_type": "execute_result"
    }
   ],
   "source": [
    "#np.random.randint(): This function generates random integers within a specified range (inclusive)\n",
    "#in the specified shape.\n",
    "ar3=np.random.randint(0,10,5)# Generate a 1D array with 5 random integers between 0 and 9 (inclusive)\n",
    "ar3"
   ]
  },
  {
   "cell_type": "code",
   "execution_count": 74,
   "id": "450b5aa7",
   "metadata": {},
   "outputs": [
    {
     "data": {
      "text/plain": [
       "array([0.34471858, 0.94115773, 0.61232016, 0.7027978 , 0.28510906])"
      ]
     },
     "execution_count": 74,
     "metadata": {},
     "output_type": "execute_result"
    }
   ],
   "source": [
    "#np.random.random_sample(): This function generates random numbers from a uniform distribution\n",
    "#over the interval [0, 1) in the specified shape (same as np.random.rand()).\n",
    "ar4=np.random.random_sample(5)# Generate a 1D array with 5 random numbers between 0 and 1\n",
    "ar4"
   ]
  },
  {
   "cell_type": "code",
   "execution_count": 76,
   "id": "acc4f9da",
   "metadata": {},
   "outputs": [
    {
     "data": {
      "text/plain": [
       "array([8, 6, 4, 3, 3])"
      ]
     },
     "execution_count": 76,
     "metadata": {},
     "output_type": "execute_result"
    }
   ],
   "source": [
    "#np.random.choice(): This function generates random samples from a given 1D array or list, \n",
    "#with or without replacement.\n",
    "ran=[1,2,3,4,5,6,7,8,9,0]\n",
    "ar5=np.random.choice(ran,5)# Generate 5 random samples from the given list\n",
    "ar5"
   ]
  },
  {
   "cell_type": "code",
   "execution_count": 81,
   "id": "b8d08ebc",
   "metadata": {},
   "outputs": [
    {
     "data": {
      "text/plain": [
       "array([5, 6, 7, 8, 9])"
      ]
     },
     "execution_count": 81,
     "metadata": {},
     "output_type": "execute_result"
    }
   ],
   "source": [
    "#np.random.shuffle(): This function shuffles the elements of an array in place.\n",
    "ran1=np.array([5,6,7,8,9])\n",
    "ran1"
   ]
  },
  {
   "cell_type": "code",
   "execution_count": 82,
   "id": "c682ce5c",
   "metadata": {},
   "outputs": [],
   "source": [
    "np.random.shuffle(ran1)"
   ]
  },
  {
   "cell_type": "code",
   "execution_count": 83,
   "id": "f0fd41a9",
   "metadata": {},
   "outputs": [
    {
     "name": "stdout",
     "output_type": "stream",
     "text": [
      "Shuffled array: [7 6 8 5 9]\n"
     ]
    }
   ],
   "source": [
    "print(\"Shuffled array:\", ran1)"
   ]
  },
  {
   "cell_type": "code",
   "execution_count": null,
   "id": "4d3d93c9",
   "metadata": {},
   "outputs": [],
   "source": []
  }
 ],
 "metadata": {
  "kernelspec": {
   "display_name": "Python 3 (ipykernel)",
   "language": "python",
   "name": "python3"
  },
  "language_info": {
   "codemirror_mode": {
    "name": "ipython",
    "version": 3
   },
   "file_extension": ".py",
   "mimetype": "text/x-python",
   "name": "python",
   "nbconvert_exporter": "python",
   "pygments_lexer": "ipython3",
   "version": "3.10.9"
  }
 },
 "nbformat": 4,
 "nbformat_minor": 5
}
